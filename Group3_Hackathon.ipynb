{
 "cells": [
  {
   "cell_type": "code",
   "execution_count": 8,
   "metadata": {
    "colab": {
     "base_uri": "https://localhost:8080/"
    },
    "id": "g2leYCHGrAZU",
    "outputId": "cfad27ba-2515-4e6d-e41b-16c5291fa603"
   },
   "outputs": [],
   "source": [
    "import pandas as pd\n",
    "import pandas_profiling\n",
    "import numpy as np\n",
    "from pandas_profiling import ProfileReport\n",
    "from sklearn.dummy import DummyClassifier\n",
    "from sklearn.model_selection import RepeatedStratifiedKFold, cross_validate\n",
    "from sklearn.pipeline import Pipeline\n",
    "from sklearn.compose import ColumnTransformer\n",
    "from sklearn.preprocessing import MinMaxScaler\n",
    "from sklearn.tree import DecisionTreeClassifier\n",
    "from sklearn.ensemble import AdaBoostClassifier, GradientBoostingClassifier, ExtraTreesClassifier, RandomForestClassifier\n",
    "from sklearn.model_selection import train_test_split\n",
    "from sklearn.metrics import classification_report, plot_precision_recall_curve, precision_recall_curve, PrecisionRecallDisplay\n"
   ]
  },
  {
   "cell_type": "code",
   "execution_count": 10,
   "metadata": {
    "colab": {
     "base_uri": "https://localhost:8080/"
    },
    "id": "hw0sud04rUWJ",
    "outputId": "1f871f0b-c58b-453b-c415-597333c7afd1"
   },
   "outputs": [
    {
     "name": "stderr",
     "output_type": "stream",
     "text": [
      "<ipython-input-10-9195f0d75244>:1: DtypeWarning: Columns (7,8) have mixed types. Specify dtype option on import or set low_memory=False.\n",
      "  data = pd.read_csv(\"corona_tested_individuals_ver_00220.english.csv\")\n"
     ]
    }
   ],
   "source": [
    "data = pd.read_csv(\"data/corona_tested_individuals_ver_00220_eng.csv\")"
   ]
  },
  {
   "cell_type": "code",
   "execution_count": 11,
   "metadata": {
    "colab": {
     "base_uri": "https://localhost:8080/",
     "height": 206
    },
    "id": "IUo0MU0H16cj",
    "outputId": "25e0def9-297e-47c9-e530-9c3bd7d2e55a"
   },
   "outputs": [
    {
     "data": {
      "text/html": [
       "<div>\n",
       "<style scoped>\n",
       "    .dataframe tbody tr th:only-of-type {\n",
       "        vertical-align: middle;\n",
       "    }\n",
       "\n",
       "    .dataframe tbody tr th {\n",
       "        vertical-align: top;\n",
       "    }\n",
       "\n",
       "    .dataframe thead th {\n",
       "        text-align: right;\n",
       "    }\n",
       "</style>\n",
       "<table border=\"1\" class=\"dataframe\">\n",
       "  <thead>\n",
       "    <tr style=\"text-align: right;\">\n",
       "      <th></th>\n",
       "      <th>test_date</th>\n",
       "      <th>cough</th>\n",
       "      <th>fever</th>\n",
       "      <th>sore_throat</th>\n",
       "      <th>shortness_of_breath</th>\n",
       "      <th>head_ache</th>\n",
       "      <th>corona_result</th>\n",
       "      <th>age_60_and_above</th>\n",
       "      <th>gender</th>\n",
       "      <th>test_indication</th>\n",
       "    </tr>\n",
       "  </thead>\n",
       "  <tbody>\n",
       "    <tr>\n",
       "      <th>0</th>\n",
       "      <td>2022-01-30</td>\n",
       "      <td>0</td>\n",
       "      <td>0</td>\n",
       "      <td>0</td>\n",
       "      <td>0</td>\n",
       "      <td>0</td>\n",
       "      <td>positive</td>\n",
       "      <td>No</td>\n",
       "      <td>female</td>\n",
       "      <td>Other</td>\n",
       "    </tr>\n",
       "    <tr>\n",
       "      <th>1</th>\n",
       "      <td>2022-01-30</td>\n",
       "      <td>0</td>\n",
       "      <td>0</td>\n",
       "      <td>0</td>\n",
       "      <td>0</td>\n",
       "      <td>0</td>\n",
       "      <td>positive</td>\n",
       "      <td>No</td>\n",
       "      <td>female</td>\n",
       "      <td>Other</td>\n",
       "    </tr>\n",
       "    <tr>\n",
       "      <th>2</th>\n",
       "      <td>2022-01-30</td>\n",
       "      <td>0</td>\n",
       "      <td>0</td>\n",
       "      <td>0</td>\n",
       "      <td>0</td>\n",
       "      <td>0</td>\n",
       "      <td>positive</td>\n",
       "      <td>No</td>\n",
       "      <td>male</td>\n",
       "      <td>Other</td>\n",
       "    </tr>\n",
       "    <tr>\n",
       "      <th>3</th>\n",
       "      <td>2022-01-30</td>\n",
       "      <td>0</td>\n",
       "      <td>0</td>\n",
       "      <td>0</td>\n",
       "      <td>0</td>\n",
       "      <td>0</td>\n",
       "      <td>positive</td>\n",
       "      <td>No</td>\n",
       "      <td>female</td>\n",
       "      <td>Other</td>\n",
       "    </tr>\n",
       "    <tr>\n",
       "      <th>4</th>\n",
       "      <td>2022-01-30</td>\n",
       "      <td>0</td>\n",
       "      <td>0</td>\n",
       "      <td>0</td>\n",
       "      <td>0</td>\n",
       "      <td>0</td>\n",
       "      <td>positive</td>\n",
       "      <td>No</td>\n",
       "      <td>female</td>\n",
       "      <td>Other</td>\n",
       "    </tr>\n",
       "  </tbody>\n",
       "</table>\n",
       "</div>"
      ],
      "text/plain": [
       "    test_date  cough  fever  sore_throat  shortness_of_breath  head_ache  \\\n",
       "0  2022-01-30      0      0            0                    0          0   \n",
       "1  2022-01-30      0      0            0                    0          0   \n",
       "2  2022-01-30      0      0            0                    0          0   \n",
       "3  2022-01-30      0      0            0                    0          0   \n",
       "4  2022-01-30      0      0            0                    0          0   \n",
       "\n",
       "  corona_result age_60_and_above  gender test_indication  \n",
       "0      positive               No  female           Other  \n",
       "1      positive               No  female           Other  \n",
       "2      positive               No    male           Other  \n",
       "3      positive               No  female           Other  \n",
       "4      positive               No  female           Other  "
      ]
     },
     "execution_count": 11,
     "metadata": {},
     "output_type": "execute_result"
    }
   ],
   "source": [
    "# take a look at the data\n",
    "data.head()"
   ]
  },
  {
   "cell_type": "code",
   "execution_count": 12,
   "metadata": {
    "colab": {
     "base_uri": "https://localhost:8080/"
    },
    "id": "mc-Ah9XkAgdZ",
    "outputId": "73ee4121-825a-43ee-a446-6bf94af87279"
   },
   "outputs": [
    {
     "name": "stdout",
     "output_type": "stream",
     "text": [
      "<class 'pandas.core.frame.DataFrame'>\n",
      "RangeIndex: 8890301 entries, 0 to 8890300\n",
      "Data columns (total 10 columns):\n",
      " #   Column               Dtype \n",
      "---  ------               ----- \n",
      " 0   test_date            object\n",
      " 1   cough                int64 \n",
      " 2   fever                int64 \n",
      " 3   sore_throat          int64 \n",
      " 4   shortness_of_breath  int64 \n",
      " 5   head_ache            int64 \n",
      " 6   corona_result        object\n",
      " 7   age_60_and_above     object\n",
      " 8   gender               object\n",
      " 9   test_indication      object\n",
      "dtypes: int64(5), object(5)\n",
      "memory usage: 678.3+ MB\n"
     ]
    }
   ],
   "source": [
    "data.info() # need to turn into numeric variables and change date into datetime variable"
   ]
  },
  {
   "cell_type": "markdown",
   "metadata": {
    "id": "rH5eMUwfCC9b"
   },
   "source": [
    "Check NAs, and remove for now."
   ]
  },
  {
   "cell_type": "code",
   "execution_count": 13,
   "metadata": {
    "colab": {
     "base_uri": "https://localhost:8080/"
    },
    "id": "faDeRR1_BewS",
    "outputId": "e1c2f582-6361-4940-d068-bdf9e7cc4663"
   },
   "outputs": [
    {
     "data": {
      "text/plain": [
       "test_date                    0\n",
       "cough                        0\n",
       "fever                        0\n",
       "sore_throat                  0\n",
       "shortness_of_breath          0\n",
       "head_ache                    0\n",
       "corona_result                0\n",
       "age_60_and_above       2029966\n",
       "gender                  663908\n",
       "test_indication              0\n",
       "dtype: int64"
      ]
     },
     "execution_count": 13,
     "metadata": {},
     "output_type": "execute_result"
    }
   ],
   "source": [
    "data.isna().sum() # count the number of NAs and where within the dataset"
   ]
  },
  {
   "cell_type": "markdown",
   "metadata": {
    "id": "SXbjpOylC4nn"
   },
   "source": [
    "Dropping NAs from data"
   ]
  },
  {
   "cell_type": "code",
   "execution_count": 14,
   "metadata": {
    "id": "gYeQRUY0CK99"
   },
   "outputs": [],
   "source": [
    "# keep a copy of the raw data for reference\n",
    "data_raw = data.copy()\n",
    "data = data.dropna()"
   ]
  },
  {
   "cell_type": "code",
   "execution_count": 15,
   "metadata": {
    "id": "_jutwwGLF-jO"
   },
   "outputs": [],
   "source": [
    "#Removing other class from the target feature\n",
    "mask = data[\"corona_result\"] != \"other\"\n",
    "data = data[mask]"
   ]
  },
  {
   "cell_type": "markdown",
   "metadata": {
    "id": "J3d6greGDIiY"
   },
   "source": [
    "Dropping NAs for now as these are to do with demographic values, and Age was only introduced later into the collection process. Come back for imputation and gradient boosting.\n",
    "\n",
    "\n",
    "1.   corona_results_positive: 1 - positive and 0 - negative\n",
    "2.   List age_60_and_above: 1- True and 0 - False\n",
    "3.   gender: 1- Male and 0 - Female\n",
    "4.   test_indication: 1 - contact with confirmed\n",
    "5.   test_indiction_other: 1 - other indication/not specified\n",
    "6.   test_indication = 0 and test_indiction_other = 0: arrived from abroad\n",
    "\n"
   ]
  },
  {
   "cell_type": "code",
   "execution_count": 16,
   "metadata": {
    "id": "JZpbayT6DbRc"
   },
   "outputs": [],
   "source": [
    "# change the objects to integers\n",
    "data = pd.get_dummies(data = data, columns = [\"corona_result\", \"age_60_and_above\", \"gender\", \"test_indication\"], drop_first = True)"
   ]
  },
  {
   "cell_type": "code",
   "execution_count": 17,
   "metadata": {
    "id": "SlTppgIwGIkI"
   },
   "outputs": [],
   "source": [
    "# change the date to datetime object\n",
    "data.test_date = pd.to_datetime(data.test_date)"
   ]
  },
  {
   "cell_type": "code",
   "execution_count": 18,
   "metadata": {
    "colab": {
     "base_uri": "https://localhost:8080/",
     "height": 300
    },
    "id": "2oPcU5arFzeO",
    "outputId": "ee082a9b-d609-43bb-8663-85b011e66452"
   },
   "outputs": [
    {
     "data": {
      "text/html": [
       "<div>\n",
       "<style scoped>\n",
       "    .dataframe tbody tr th:only-of-type {\n",
       "        vertical-align: middle;\n",
       "    }\n",
       "\n",
       "    .dataframe tbody tr th {\n",
       "        vertical-align: top;\n",
       "    }\n",
       "\n",
       "    .dataframe thead th {\n",
       "        text-align: right;\n",
       "    }\n",
       "</style>\n",
       "<table border=\"1\" class=\"dataframe\">\n",
       "  <thead>\n",
       "    <tr style=\"text-align: right;\">\n",
       "      <th></th>\n",
       "      <th>cough</th>\n",
       "      <th>fever</th>\n",
       "      <th>sore_throat</th>\n",
       "      <th>shortness_of_breath</th>\n",
       "      <th>head_ache</th>\n",
       "      <th>corona_result_positive</th>\n",
       "      <th>age_60_and_above_Yes</th>\n",
       "      <th>gender_male</th>\n",
       "      <th>test_indication_Contact with confirmed</th>\n",
       "      <th>test_indication_Other</th>\n",
       "    </tr>\n",
       "  </thead>\n",
       "  <tbody>\n",
       "    <tr>\n",
       "      <th>count</th>\n",
       "      <td>6.566878e+06</td>\n",
       "      <td>6.566878e+06</td>\n",
       "      <td>6.566878e+06</td>\n",
       "      <td>6.566878e+06</td>\n",
       "      <td>6.566878e+06</td>\n",
       "      <td>6.566878e+06</td>\n",
       "      <td>6.566878e+06</td>\n",
       "      <td>6.566878e+06</td>\n",
       "      <td>6.566878e+06</td>\n",
       "      <td>6.566878e+06</td>\n",
       "    </tr>\n",
       "    <tr>\n",
       "      <th>mean</th>\n",
       "      <td>5.011270e-02</td>\n",
       "      <td>3.980004e-02</td>\n",
       "      <td>2.007392e-02</td>\n",
       "      <td>4.360824e-03</td>\n",
       "      <td>4.108162e-02</td>\n",
       "      <td>1.146947e-01</td>\n",
       "      <td>1.293560e-01</td>\n",
       "      <td>4.851264e-01</td>\n",
       "      <td>8.802554e-02</td>\n",
       "      <td>9.072652e-01</td>\n",
       "    </tr>\n",
       "    <tr>\n",
       "      <th>std</th>\n",
       "      <td>2.181775e-01</td>\n",
       "      <td>1.954891e-01</td>\n",
       "      <td>1.402532e-01</td>\n",
       "      <td>6.589240e-02</td>\n",
       "      <td>1.984790e-01</td>\n",
       "      <td>3.186531e-01</td>\n",
       "      <td>3.355936e-01</td>\n",
       "      <td>4.997788e-01</td>\n",
       "      <td>2.833321e-01</td>\n",
       "      <td>2.900604e-01</td>\n",
       "    </tr>\n",
       "    <tr>\n",
       "      <th>min</th>\n",
       "      <td>0.000000e+00</td>\n",
       "      <td>0.000000e+00</td>\n",
       "      <td>0.000000e+00</td>\n",
       "      <td>0.000000e+00</td>\n",
       "      <td>0.000000e+00</td>\n",
       "      <td>0.000000e+00</td>\n",
       "      <td>0.000000e+00</td>\n",
       "      <td>0.000000e+00</td>\n",
       "      <td>0.000000e+00</td>\n",
       "      <td>0.000000e+00</td>\n",
       "    </tr>\n",
       "    <tr>\n",
       "      <th>25%</th>\n",
       "      <td>0.000000e+00</td>\n",
       "      <td>0.000000e+00</td>\n",
       "      <td>0.000000e+00</td>\n",
       "      <td>0.000000e+00</td>\n",
       "      <td>0.000000e+00</td>\n",
       "      <td>0.000000e+00</td>\n",
       "      <td>0.000000e+00</td>\n",
       "      <td>0.000000e+00</td>\n",
       "      <td>0.000000e+00</td>\n",
       "      <td>1.000000e+00</td>\n",
       "    </tr>\n",
       "    <tr>\n",
       "      <th>50%</th>\n",
       "      <td>0.000000e+00</td>\n",
       "      <td>0.000000e+00</td>\n",
       "      <td>0.000000e+00</td>\n",
       "      <td>0.000000e+00</td>\n",
       "      <td>0.000000e+00</td>\n",
       "      <td>0.000000e+00</td>\n",
       "      <td>0.000000e+00</td>\n",
       "      <td>0.000000e+00</td>\n",
       "      <td>0.000000e+00</td>\n",
       "      <td>1.000000e+00</td>\n",
       "    </tr>\n",
       "    <tr>\n",
       "      <th>75%</th>\n",
       "      <td>0.000000e+00</td>\n",
       "      <td>0.000000e+00</td>\n",
       "      <td>0.000000e+00</td>\n",
       "      <td>0.000000e+00</td>\n",
       "      <td>0.000000e+00</td>\n",
       "      <td>0.000000e+00</td>\n",
       "      <td>0.000000e+00</td>\n",
       "      <td>1.000000e+00</td>\n",
       "      <td>0.000000e+00</td>\n",
       "      <td>1.000000e+00</td>\n",
       "    </tr>\n",
       "    <tr>\n",
       "      <th>max</th>\n",
       "      <td>1.000000e+00</td>\n",
       "      <td>1.000000e+00</td>\n",
       "      <td>1.000000e+00</td>\n",
       "      <td>1.000000e+00</td>\n",
       "      <td>1.000000e+00</td>\n",
       "      <td>1.000000e+00</td>\n",
       "      <td>1.000000e+00</td>\n",
       "      <td>1.000000e+00</td>\n",
       "      <td>1.000000e+00</td>\n",
       "      <td>1.000000e+00</td>\n",
       "    </tr>\n",
       "  </tbody>\n",
       "</table>\n",
       "</div>"
      ],
      "text/plain": [
       "              cough         fever   sore_throat  shortness_of_breath  \\\n",
       "count  6.566878e+06  6.566878e+06  6.566878e+06         6.566878e+06   \n",
       "mean   5.011270e-02  3.980004e-02  2.007392e-02         4.360824e-03   \n",
       "std    2.181775e-01  1.954891e-01  1.402532e-01         6.589240e-02   \n",
       "min    0.000000e+00  0.000000e+00  0.000000e+00         0.000000e+00   \n",
       "25%    0.000000e+00  0.000000e+00  0.000000e+00         0.000000e+00   \n",
       "50%    0.000000e+00  0.000000e+00  0.000000e+00         0.000000e+00   \n",
       "75%    0.000000e+00  0.000000e+00  0.000000e+00         0.000000e+00   \n",
       "max    1.000000e+00  1.000000e+00  1.000000e+00         1.000000e+00   \n",
       "\n",
       "          head_ache  corona_result_positive  age_60_and_above_Yes  \\\n",
       "count  6.566878e+06            6.566878e+06          6.566878e+06   \n",
       "mean   4.108162e-02            1.146947e-01          1.293560e-01   \n",
       "std    1.984790e-01            3.186531e-01          3.355936e-01   \n",
       "min    0.000000e+00            0.000000e+00          0.000000e+00   \n",
       "25%    0.000000e+00            0.000000e+00          0.000000e+00   \n",
       "50%    0.000000e+00            0.000000e+00          0.000000e+00   \n",
       "75%    0.000000e+00            0.000000e+00          0.000000e+00   \n",
       "max    1.000000e+00            1.000000e+00          1.000000e+00   \n",
       "\n",
       "        gender_male  test_indication_Contact with confirmed  \\\n",
       "count  6.566878e+06                            6.566878e+06   \n",
       "mean   4.851264e-01                            8.802554e-02   \n",
       "std    4.997788e-01                            2.833321e-01   \n",
       "min    0.000000e+00                            0.000000e+00   \n",
       "25%    0.000000e+00                            0.000000e+00   \n",
       "50%    0.000000e+00                            0.000000e+00   \n",
       "75%    1.000000e+00                            0.000000e+00   \n",
       "max    1.000000e+00                            1.000000e+00   \n",
       "\n",
       "       test_indication_Other  \n",
       "count           6.566878e+06  \n",
       "mean            9.072652e-01  \n",
       "std             2.900604e-01  \n",
       "min             0.000000e+00  \n",
       "25%             1.000000e+00  \n",
       "50%             1.000000e+00  \n",
       "75%             1.000000e+00  \n",
       "max             1.000000e+00  "
      ]
     },
     "execution_count": 18,
     "metadata": {},
     "output_type": "execute_result"
    }
   ],
   "source": [
    "# look at the numeric range, etc.\n",
    "data.describe()"
   ]
  },
  {
   "cell_type": "code",
   "execution_count": 19,
   "metadata": {
    "id": "0j-_YcWoGnm2"
   },
   "outputs": [],
   "source": [
    "data = data.set_index('test_date')"
   ]
  },
  {
   "cell_type": "code",
   "execution_count": 20,
   "metadata": {
    "id": "B61k9_OUIDFz"
   },
   "outputs": [],
   "source": [
    "#  see data folder for profile output\n",
    "# sample = data.sample(100000)\n",
    "\n",
    "# create profile\n",
    "# profile = ProfileReport(sample, title=\"Profile of Israeli Dataset\")\n",
    "# profile.to_notebook_iframe()"
   ]
  },
  {
   "cell_type": "markdown",
   "metadata": {
    "id": "M7jeHhF6c6yq"
   },
   "source": [
    "Feature addition: adding our world in data information for Israel for top level information."
   ]
  },
  {
   "cell_type": "code",
   "execution_count": 21,
   "metadata": {
    "id": "Yrwj6eahdF2I"
   },
   "outputs": [],
   "source": [
    "owid = pd.read_csv(\"data/owid-covid-data.csv\")"
   ]
  },
  {
   "cell_type": "code",
   "execution_count": 22,
   "metadata": {
    "id": "6LLaYRTIdcb3"
   },
   "outputs": [],
   "source": [
    "owid_isr = owid[owid.iso_code == \"ISR\"]"
   ]
  },
  {
   "cell_type": "markdown",
   "metadata": {
    "id": "Lxv6pl1aeA7j"
   },
   "source": [
    "Check for NAs and the data types which we will be using"
   ]
  },
  {
   "cell_type": "code",
   "execution_count": 23,
   "metadata": {
    "colab": {
     "base_uri": "https://localhost:8080/"
    },
    "id": "TF7eIDLcgB7Q",
    "outputId": "35452f30-71c7-46d1-9fe5-3acf0b69fad0"
   },
   "outputs": [
    {
     "name": "stdout",
     "output_type": "stream",
     "text": [
      "<class 'pandas.core.frame.DataFrame'>\n",
      "Int64Index: 873 entries, 88874 to 89746\n",
      "Data columns (total 67 columns):\n",
      " #   Column                                      Non-Null Count  Dtype  \n",
      "---  ------                                      --------------  -----  \n",
      " 0   iso_code                                    873 non-null    object \n",
      " 1   continent                                   873 non-null    object \n",
      " 2   location                                    873 non-null    object \n",
      " 3   date                                        873 non-null    object \n",
      " 4   total_cases                                 872 non-null    float64\n",
      " 5   new_cases                                   869 non-null    float64\n",
      " 6   new_cases_smoothed                          864 non-null    float64\n",
      " 7   total_deaths                                844 non-null    float64\n",
      " 8   new_deaths                                  837 non-null    float64\n",
      " 9   new_deaths_smoothed                         829 non-null    float64\n",
      " 10  total_cases_per_million                     872 non-null    float64\n",
      " 11  new_cases_per_million                       869 non-null    float64\n",
      " 12  new_cases_smoothed_per_million              864 non-null    float64\n",
      " 13  total_deaths_per_million                    844 non-null    float64\n",
      " 14  new_deaths_per_million                      837 non-null    float64\n",
      " 15  new_deaths_smoothed_per_million             829 non-null    float64\n",
      " 16  reproduction_rate                           848 non-null    float64\n",
      " 17  icu_patients                                679 non-null    float64\n",
      " 18  icu_patients_per_million                    679 non-null    float64\n",
      " 19  hosp_patients                               862 non-null    float64\n",
      " 20  hosp_patients_per_million                   862 non-null    float64\n",
      " 21  weekly_icu_admissions                       854 non-null    float64\n",
      " 22  weekly_icu_admissions_per_million           854 non-null    float64\n",
      " 23  weekly_hosp_admissions                      856 non-null    float64\n",
      " 24  weekly_hosp_admissions_per_million          856 non-null    float64\n",
      " 25  total_tests                                 854 non-null    float64\n",
      " 26  new_tests                                   854 non-null    float64\n",
      " 27  total_tests_per_thousand                    854 non-null    float64\n",
      " 28  new_tests_per_thousand                      854 non-null    float64\n",
      " 29  new_tests_smoothed                          847 non-null    float64\n",
      " 30  new_tests_smoothed_per_thousand             847 non-null    float64\n",
      " 31  positive_rate                               854 non-null    float64\n",
      " 32  tests_per_case                              848 non-null    float64\n",
      " 33  tests_units                                 854 non-null    object \n",
      " 34  total_vaccinations                          569 non-null    float64\n",
      " 35  people_vaccinated                           569 non-null    float64\n",
      " 36  people_fully_vaccinated                     569 non-null    float64\n",
      " 37  total_boosters                              375 non-null    float64\n",
      " 38  new_vaccinations                            567 non-null    float64\n",
      " 39  new_vaccinations_smoothed                   569 non-null    float64\n",
      " 40  total_vaccinations_per_hundred              569 non-null    float64\n",
      " 41  people_vaccinated_per_hundred               569 non-null    float64\n",
      " 42  people_fully_vaccinated_per_hundred         569 non-null    float64\n",
      " 43  total_boosters_per_hundred                  375 non-null    float64\n",
      " 44  new_vaccinations_smoothed_per_million       569 non-null    float64\n",
      " 45  new_people_vaccinated_smoothed              569 non-null    float64\n",
      " 46  new_people_vaccinated_smoothed_per_hundred  569 non-null    float64\n",
      " 47  stringency_index                            873 non-null    float64\n",
      " 48  population                                  873 non-null    float64\n",
      " 49  population_density                          873 non-null    float64\n",
      " 50  median_age                                  873 non-null    float64\n",
      " 51  aged_65_older                               873 non-null    float64\n",
      " 52  aged_70_older                               873 non-null    float64\n",
      " 53  gdp_per_capita                              873 non-null    float64\n",
      " 54  extreme_poverty                             873 non-null    float64\n",
      " 55  cardiovasc_death_rate                       873 non-null    float64\n",
      " 56  diabetes_prevalence                         873 non-null    float64\n",
      " 57  female_smokers                              873 non-null    float64\n",
      " 58  male_smokers                                873 non-null    float64\n",
      " 59  handwashing_facilities                      0 non-null      float64\n",
      " 60  hospital_beds_per_thousand                  873 non-null    float64\n",
      " 61  life_expectancy                             873 non-null    float64\n",
      " 62  human_development_index                     873 non-null    float64\n",
      " 63  excess_mortality_cumulative_absolute        120 non-null    float64\n",
      " 64  excess_mortality_cumulative                 120 non-null    float64\n",
      " 65  excess_mortality                            120 non-null    float64\n",
      " 66  excess_mortality_cumulative_per_million     120 non-null    float64\n",
      "dtypes: float64(62), object(5)\n",
      "memory usage: 463.8+ KB\n"
     ]
    }
   ],
   "source": [
    "owid_isr.info()"
   ]
  },
  {
   "cell_type": "code",
   "execution_count": 24,
   "metadata": {
    "id": "YUjQnW3CgSvd"
   },
   "outputs": [],
   "source": [
    "# drop ncolumns with manu NAs immadietly\n",
    "cols_drop = {\"handwashing_facilities\", \"excess_mortality_cumulative_absolute\", \n",
    "             \"excess_mortality_cumulative\", \"excess_mortality\", \n",
    "             \"excess_mortality_cumulative_per_million\", \"iso_code\", \"continent\", \"location\"}\n",
    "owid_isr_filt = owid_isr.drop(columns = cols_drop)"
   ]
  },
  {
   "cell_type": "code",
   "execution_count": 25,
   "metadata": {
    "id": "q6vrBu17hug3"
   },
   "outputs": [],
   "source": [
    "owid_isr_filt.date = pd.to_datetime(owid_isr_filt.date)"
   ]
  },
  {
   "cell_type": "code",
   "execution_count": 26,
   "metadata": {
    "id": "FXGjwtwwiCts"
   },
   "outputs": [],
   "source": [
    "# filter to the time period of interest\n",
    "owid_isr_filt = owid_isr_filt[(owid_isr_filt.date >= \"2020-03-20 00:00:00\") & (owid_isr_filt.date <= \"2022-01-30 00:00:00\")]"
   ]
  },
  {
   "cell_type": "code",
   "execution_count": 27,
   "metadata": {
    "colab": {
     "base_uri": "https://localhost:8080/",
     "height": 300
    },
    "id": "Id3bEwxihZui",
    "outputId": "febbf1c4-0543-4dfc-820d-346a97fb6dd3"
   },
   "outputs": [
    {
     "data": {
      "text/html": [
       "<div>\n",
       "<style scoped>\n",
       "    .dataframe tbody tr th:only-of-type {\n",
       "        vertical-align: middle;\n",
       "    }\n",
       "\n",
       "    .dataframe tbody tr th {\n",
       "        vertical-align: top;\n",
       "    }\n",
       "\n",
       "    .dataframe thead th {\n",
       "        text-align: right;\n",
       "    }\n",
       "</style>\n",
       "<table border=\"1\" class=\"dataframe\">\n",
       "  <thead>\n",
       "    <tr style=\"text-align: right;\">\n",
       "      <th></th>\n",
       "      <th>date</th>\n",
       "      <th>total_cases</th>\n",
       "      <th>new_cases</th>\n",
       "      <th>new_cases_smoothed</th>\n",
       "      <th>total_deaths</th>\n",
       "      <th>new_deaths</th>\n",
       "      <th>new_deaths_smoothed</th>\n",
       "      <th>total_cases_per_million</th>\n",
       "      <th>new_cases_per_million</th>\n",
       "      <th>new_cases_smoothed_per_million</th>\n",
       "      <th>...</th>\n",
       "      <th>aged_70_older</th>\n",
       "      <th>gdp_per_capita</th>\n",
       "      <th>extreme_poverty</th>\n",
       "      <th>cardiovasc_death_rate</th>\n",
       "      <th>diabetes_prevalence</th>\n",
       "      <th>female_smokers</th>\n",
       "      <th>male_smokers</th>\n",
       "      <th>hospital_beds_per_thousand</th>\n",
       "      <th>life_expectancy</th>\n",
       "      <th>human_development_index</th>\n",
       "    </tr>\n",
       "  </thead>\n",
       "  <tbody>\n",
       "    <tr>\n",
       "      <th>88903</th>\n",
       "      <td>2020-03-20</td>\n",
       "      <td>628.0</td>\n",
       "      <td>242.0</td>\n",
       "      <td>73.714</td>\n",
       "      <td>1.0</td>\n",
       "      <td>1.0</td>\n",
       "      <td>NaN</td>\n",
       "      <td>67.592</td>\n",
       "      <td>26.047</td>\n",
       "      <td>7.934</td>\n",
       "      <td>...</td>\n",
       "      <td>7.359</td>\n",
       "      <td>33132.32</td>\n",
       "      <td>0.5</td>\n",
       "      <td>93.32</td>\n",
       "      <td>6.74</td>\n",
       "      <td>15.4</td>\n",
       "      <td>35.4</td>\n",
       "      <td>2.99</td>\n",
       "      <td>82.97</td>\n",
       "      <td>0.919</td>\n",
       "    </tr>\n",
       "    <tr>\n",
       "      <th>88904</th>\n",
       "      <td>2020-03-21</td>\n",
       "      <td>843.0</td>\n",
       "      <td>215.0</td>\n",
       "      <td>100.714</td>\n",
       "      <td>1.0</td>\n",
       "      <td>0.0</td>\n",
       "      <td>NaN</td>\n",
       "      <td>90.733</td>\n",
       "      <td>23.141</td>\n",
       "      <td>10.840</td>\n",
       "      <td>...</td>\n",
       "      <td>7.359</td>\n",
       "      <td>33132.32</td>\n",
       "      <td>0.5</td>\n",
       "      <td>93.32</td>\n",
       "      <td>6.74</td>\n",
       "      <td>15.4</td>\n",
       "      <td>35.4</td>\n",
       "      <td>2.99</td>\n",
       "      <td>82.97</td>\n",
       "      <td>0.919</td>\n",
       "    </tr>\n",
       "    <tr>\n",
       "      <th>88905</th>\n",
       "      <td>2020-03-22</td>\n",
       "      <td>1080.0</td>\n",
       "      <td>237.0</td>\n",
       "      <td>129.000</td>\n",
       "      <td>1.0</td>\n",
       "      <td>0.0</td>\n",
       "      <td>NaN</td>\n",
       "      <td>116.242</td>\n",
       "      <td>25.509</td>\n",
       "      <td>13.884</td>\n",
       "      <td>...</td>\n",
       "      <td>7.359</td>\n",
       "      <td>33132.32</td>\n",
       "      <td>0.5</td>\n",
       "      <td>93.32</td>\n",
       "      <td>6.74</td>\n",
       "      <td>15.4</td>\n",
       "      <td>35.4</td>\n",
       "      <td>2.99</td>\n",
       "      <td>82.97</td>\n",
       "      <td>0.919</td>\n",
       "    </tr>\n",
       "    <tr>\n",
       "      <th>88906</th>\n",
       "      <td>2020-03-23</td>\n",
       "      <td>1249.0</td>\n",
       "      <td>169.0</td>\n",
       "      <td>142.571</td>\n",
       "      <td>1.0</td>\n",
       "      <td>0.0</td>\n",
       "      <td>NaN</td>\n",
       "      <td>134.431</td>\n",
       "      <td>18.190</td>\n",
       "      <td>15.345</td>\n",
       "      <td>...</td>\n",
       "      <td>7.359</td>\n",
       "      <td>33132.32</td>\n",
       "      <td>0.5</td>\n",
       "      <td>93.32</td>\n",
       "      <td>6.74</td>\n",
       "      <td>15.4</td>\n",
       "      <td>35.4</td>\n",
       "      <td>2.99</td>\n",
       "      <td>82.97</td>\n",
       "      <td>0.919</td>\n",
       "    </tr>\n",
       "    <tr>\n",
       "      <th>88907</th>\n",
       "      <td>2020-03-24</td>\n",
       "      <td>1351.0</td>\n",
       "      <td>102.0</td>\n",
       "      <td>150.857</td>\n",
       "      <td>4.0</td>\n",
       "      <td>3.0</td>\n",
       "      <td>NaN</td>\n",
       "      <td>145.410</td>\n",
       "      <td>10.978</td>\n",
       "      <td>16.237</td>\n",
       "      <td>...</td>\n",
       "      <td>7.359</td>\n",
       "      <td>33132.32</td>\n",
       "      <td>0.5</td>\n",
       "      <td>93.32</td>\n",
       "      <td>6.74</td>\n",
       "      <td>15.4</td>\n",
       "      <td>35.4</td>\n",
       "      <td>2.99</td>\n",
       "      <td>82.97</td>\n",
       "      <td>0.919</td>\n",
       "    </tr>\n",
       "  </tbody>\n",
       "</table>\n",
       "<p>5 rows × 59 columns</p>\n",
       "</div>"
      ],
      "text/plain": [
       "            date  total_cases  new_cases  new_cases_smoothed  total_deaths  \\\n",
       "88903 2020-03-20        628.0      242.0              73.714           1.0   \n",
       "88904 2020-03-21        843.0      215.0             100.714           1.0   \n",
       "88905 2020-03-22       1080.0      237.0             129.000           1.0   \n",
       "88906 2020-03-23       1249.0      169.0             142.571           1.0   \n",
       "88907 2020-03-24       1351.0      102.0             150.857           4.0   \n",
       "\n",
       "       new_deaths  new_deaths_smoothed  total_cases_per_million  \\\n",
       "88903         1.0                  NaN                   67.592   \n",
       "88904         0.0                  NaN                   90.733   \n",
       "88905         0.0                  NaN                  116.242   \n",
       "88906         0.0                  NaN                  134.431   \n",
       "88907         3.0                  NaN                  145.410   \n",
       "\n",
       "       new_cases_per_million  new_cases_smoothed_per_million  ...  \\\n",
       "88903                 26.047                           7.934  ...   \n",
       "88904                 23.141                          10.840  ...   \n",
       "88905                 25.509                          13.884  ...   \n",
       "88906                 18.190                          15.345  ...   \n",
       "88907                 10.978                          16.237  ...   \n",
       "\n",
       "       aged_70_older  gdp_per_capita  extreme_poverty  cardiovasc_death_rate  \\\n",
       "88903          7.359        33132.32              0.5                  93.32   \n",
       "88904          7.359        33132.32              0.5                  93.32   \n",
       "88905          7.359        33132.32              0.5                  93.32   \n",
       "88906          7.359        33132.32              0.5                  93.32   \n",
       "88907          7.359        33132.32              0.5                  93.32   \n",
       "\n",
       "       diabetes_prevalence  female_smokers  male_smokers  \\\n",
       "88903                 6.74            15.4          35.4   \n",
       "88904                 6.74            15.4          35.4   \n",
       "88905                 6.74            15.4          35.4   \n",
       "88906                 6.74            15.4          35.4   \n",
       "88907                 6.74            15.4          35.4   \n",
       "\n",
       "       hospital_beds_per_thousand  life_expectancy  human_development_index  \n",
       "88903                        2.99            82.97                    0.919  \n",
       "88904                        2.99            82.97                    0.919  \n",
       "88905                        2.99            82.97                    0.919  \n",
       "88906                        2.99            82.97                    0.919  \n",
       "88907                        2.99            82.97                    0.919  \n",
       "\n",
       "[5 rows x 59 columns]"
      ]
     },
     "execution_count": 27,
     "metadata": {},
     "output_type": "execute_result"
    }
   ],
   "source": [
    "owid_isr_filt.head()"
   ]
  },
  {
   "cell_type": "markdown",
   "metadata": {
    "id": "Ih0IyZUbeFDt"
   },
   "source": [
    "Format and filter the owid data"
   ]
  },
  {
   "cell_type": "code",
   "execution_count": 28,
   "metadata": {
    "id": "Waadioiskhm1"
   },
   "outputs": [],
   "source": [
    "owid_isr_filt = owid_isr_filt[['date','new_cases_smoothed_per_million', 'reproduction_rate', 'weekly_icu_admissions_per_million', 'weekly_hosp_admissions_per_million', 'people_vaccinated_per_hundred', 'stringency_index']]"
   ]
  },
  {
   "cell_type": "code",
   "execution_count": 29,
   "metadata": {
    "colab": {
     "base_uri": "https://localhost:8080/"
    },
    "id": "qKDRgIJ7mmEp",
    "outputId": "b8cbd42c-bea0-4e23-fb48-4e6a0a5dea02"
   },
   "outputs": [
    {
     "data": {
      "text/plain": [
       "date                                    0\n",
       "new_cases_smoothed_per_million          2\n",
       "reproduction_rate                       0\n",
       "weekly_icu_admissions_per_million       0\n",
       "weekly_hosp_admissions_per_million      0\n",
       "people_vaccinated_per_hundred         274\n",
       "stringency_index                        0\n",
       "dtype: int64"
      ]
     },
     "execution_count": 29,
     "metadata": {},
     "output_type": "execute_result"
    }
   ],
   "source": [
    "owid_isr_filt.isna().sum()"
   ]
  },
  {
   "cell_type": "code",
   "execution_count": 30,
   "metadata": {
    "colab": {
     "base_uri": "https://localhost:8080/"
    },
    "id": "pyoKVeIRmuPB",
    "outputId": "cb3004cd-4e84-4f3b-fdda-ceefefcc2acb"
   },
   "outputs": [],
   "source": [
    "owid_isr_filt['people_vaccinated_per_hundred'] = owid_isr_filt['people_vaccinated_per_hundred'].fillna(0)\n",
    "owid_isr_filt['new_cases_smoothed_per_million'] = owid_isr_filt['new_cases_smoothed_per_million'].fillna(0)"
   ]
  },
  {
   "cell_type": "code",
   "execution_count": 31,
   "metadata": {
    "colab": {
     "base_uri": "https://localhost:8080/",
     "height": 300
    },
    "id": "AV6WLuZDn0Fy",
    "outputId": "788f26ff-20b2-44a6-ac82-dd8269a1f97b"
   },
   "outputs": [
    {
     "data": {
      "text/html": [
       "<div>\n",
       "<style scoped>\n",
       "    .dataframe tbody tr th:only-of-type {\n",
       "        vertical-align: middle;\n",
       "    }\n",
       "\n",
       "    .dataframe tbody tr th {\n",
       "        vertical-align: top;\n",
       "    }\n",
       "\n",
       "    .dataframe thead th {\n",
       "        text-align: right;\n",
       "    }\n",
       "</style>\n",
       "<table border=\"1\" class=\"dataframe\">\n",
       "  <thead>\n",
       "    <tr style=\"text-align: right;\">\n",
       "      <th></th>\n",
       "      <th>new_cases_smoothed_per_million</th>\n",
       "      <th>reproduction_rate</th>\n",
       "      <th>weekly_icu_admissions_per_million</th>\n",
       "      <th>weekly_hosp_admissions_per_million</th>\n",
       "      <th>people_vaccinated_per_hundred</th>\n",
       "      <th>stringency_index</th>\n",
       "    </tr>\n",
       "  </thead>\n",
       "  <tbody>\n",
       "    <tr>\n",
       "      <th>count</th>\n",
       "      <td>682.000000</td>\n",
       "      <td>682.000000</td>\n",
       "      <td>682.000000</td>\n",
       "      <td>682.000000</td>\n",
       "      <td>682.000000</td>\n",
       "      <td>682.000000</td>\n",
       "    </tr>\n",
       "    <tr>\n",
       "      <th>mean</th>\n",
       "      <td>416.780362</td>\n",
       "      <td>1.102639</td>\n",
       "      <td>5.622881</td>\n",
       "      <td>74.922553</td>\n",
       "      <td>34.149707</td>\n",
       "      <td>61.563871</td>\n",
       "    </tr>\n",
       "    <tr>\n",
       "      <th>std</th>\n",
       "      <td>1141.526429</td>\n",
       "      <td>0.457527</td>\n",
       "      <td>5.272175</td>\n",
       "      <td>72.270722</td>\n",
       "      <td>30.561319</td>\n",
       "      <td>16.671846</td>\n",
       "    </tr>\n",
       "    <tr>\n",
       "      <th>min</th>\n",
       "      <td>0.000000</td>\n",
       "      <td>0.410000</td>\n",
       "      <td>0.000000</td>\n",
       "      <td>1.830000</td>\n",
       "      <td>0.000000</td>\n",
       "      <td>22.220000</td>\n",
       "    </tr>\n",
       "    <tr>\n",
       "      <th>25%</th>\n",
       "      <td>39.785250</td>\n",
       "      <td>0.740000</td>\n",
       "      <td>0.888000</td>\n",
       "      <td>13.373000</td>\n",
       "      <td>0.000000</td>\n",
       "      <td>55.560000</td>\n",
       "    </tr>\n",
       "    <tr>\n",
       "      <th>50%</th>\n",
       "      <td>121.777000</td>\n",
       "      <td>1.040000</td>\n",
       "      <td>4.251500</td>\n",
       "      <td>54.084500</td>\n",
       "      <td>49.120000</td>\n",
       "      <td>59.260000</td>\n",
       "    </tr>\n",
       "    <tr>\n",
       "      <th>75%</th>\n",
       "      <td>396.178500</td>\n",
       "      <td>1.370000</td>\n",
       "      <td>8.799000</td>\n",
       "      <td>117.775000</td>\n",
       "      <td>63.217500</td>\n",
       "      <td>75.000000</td>\n",
       "    </tr>\n",
       "    <tr>\n",
       "      <th>max</th>\n",
       "      <td>10968.157000</td>\n",
       "      <td>2.950000</td>\n",
       "      <td>23.141000</td>\n",
       "      <td>399.957000</td>\n",
       "      <td>72.090000</td>\n",
       "      <td>94.440000</td>\n",
       "    </tr>\n",
       "  </tbody>\n",
       "</table>\n",
       "</div>"
      ],
      "text/plain": [
       "       new_cases_smoothed_per_million  reproduction_rate  \\\n",
       "count                      682.000000         682.000000   \n",
       "mean                       416.780362           1.102639   \n",
       "std                       1141.526429           0.457527   \n",
       "min                          0.000000           0.410000   \n",
       "25%                         39.785250           0.740000   \n",
       "50%                        121.777000           1.040000   \n",
       "75%                        396.178500           1.370000   \n",
       "max                      10968.157000           2.950000   \n",
       "\n",
       "       weekly_icu_admissions_per_million  weekly_hosp_admissions_per_million  \\\n",
       "count                         682.000000                          682.000000   \n",
       "mean                            5.622881                           74.922553   \n",
       "std                             5.272175                           72.270722   \n",
       "min                             0.000000                            1.830000   \n",
       "25%                             0.888000                           13.373000   \n",
       "50%                             4.251500                           54.084500   \n",
       "75%                             8.799000                          117.775000   \n",
       "max                            23.141000                          399.957000   \n",
       "\n",
       "       people_vaccinated_per_hundred  stringency_index  \n",
       "count                     682.000000        682.000000  \n",
       "mean                       34.149707         61.563871  \n",
       "std                        30.561319         16.671846  \n",
       "min                         0.000000         22.220000  \n",
       "25%                         0.000000         55.560000  \n",
       "50%                        49.120000         59.260000  \n",
       "75%                        63.217500         75.000000  \n",
       "max                        72.090000         94.440000  "
      ]
     },
     "execution_count": 31,
     "metadata": {},
     "output_type": "execute_result"
    }
   ],
   "source": [
    "owid_isr_filt.describe()"
   ]
  },
  {
   "cell_type": "markdown",
   "metadata": {
    "id": "PCt5SOOJeJY3"
   },
   "source": [
    "Plot time series of the # of death, # vacinations, stringecy, and hospitalisations"
   ]
  },
  {
   "cell_type": "code",
   "execution_count": 32,
   "metadata": {
    "colab": {
     "base_uri": "https://localhost:8080/",
     "height": 306
    },
    "id": "py567UK3nme5",
    "outputId": "92e17e33-3722-45ba-c0a2-aa4ebae22ba1"
   },
   "outputs": [
    {
     "data": {
      "image/png": "[encoded data removed]",
      "text/plain": [
       "<Figure size 432x288 with 1 Axes>"
      ]
     },
     "metadata": {
      "needs_background": "light"
     },
     "output_type": "display_data"
    }
   ],
   "source": [
    "import matplotlib.pyplot as plt\n",
    "\n",
    "plt.plot(owid_isr_filt.date, owid_isr_filt.reproduction_rate, label = \"reproduction_rate\")\n",
    "plt.plot(owid_isr_filt.date, owid_isr_filt.stringency_index, label = \"stringency_index\")\n",
    "plt.plot(owid_isr_filt.date, owid_isr_filt.weekly_icu_admissions_per_million, label = \"weekly_icu_admissions_per_million\")\n",
    "plt.xlabel('Date')\n",
    "plt.xticks(rotation=45)\n",
    "plt.legend()\n",
    "plt.show()"
   ]
  },
  {
   "cell_type": "code",
   "execution_count": 33,
   "metadata": {
    "colab": {
     "base_uri": "https://localhost:8080/",
     "height": 306
    },
    "id": "J79FR2DezT72",
    "outputId": "e15cab4b-8fb6-4777-bdfe-d47053056b7f"
   },
   "outputs": [
    {
     "data": {
      "image/png": "[encoded data removed]",
      "text/plain": [
       "<Figure size 432x288 with 1 Axes>"
      ]
     },
     "metadata": {
      "needs_background": "light"
     },
     "output_type": "display_data"
    }
   ],
   "source": [
    "plt.plot(owid_isr_filt.date, owid_isr_filt.stringency_index, label = \"stringency_index\")\n",
    "plt.plot(owid_isr_filt.date, owid_isr_filt.weekly_icu_admissions_per_million, label = \"weekly_icu_admissions_per_million\")\n",
    "plt.xlabel('Date')\n",
    "plt.xticks(rotation=45)\n",
    "plt.legend()\n",
    "plt.show()"
   ]
  },
  {
   "cell_type": "code",
   "execution_count": 34,
   "metadata": {
    "colab": {
     "base_uri": "https://localhost:8080/",
     "height": 292
    },
    "id": "K5POxDqNqMGC",
    "outputId": "55d48cea-ea22-4887-9756-1b1b02bed1a5"
   },
   "outputs": [
    {
     "data": {
      "image/png": "[encoded data removed]",
      "text/plain": [
       "<Figure size 432x288 with 1 Axes>"
      ]
     },
     "metadata": {
      "needs_background": "light"
     },
     "output_type": "display_data"
    }
   ],
   "source": [
    "plt.plot(owid_isr_filt.date, owid_isr_filt.new_cases_smoothed_per_million, label = \"new_cases_smoothed_per_million\")\n",
    "plt.xticks(rotation=45)\n",
    "plt.legend()\n",
    "plt.show()"
   ]
  },
  {
   "cell_type": "code",
   "execution_count": 35,
   "metadata": {
    "colab": {
     "base_uri": "https://localhost:8080/",
     "height": 292
    },
    "id": "fdrPxGr1rTyD",
    "outputId": "65b26dbe-6847-4595-adce-fa78f16eb3ec"
   },
   "outputs": [
    {
     "data": {
      "image/png": "[encoded data removed]",
      "text/plain": [
       "<Figure size 432x288 with 1 Axes>"
      ]
     },
     "metadata": {
      "needs_background": "light"
     },
     "output_type": "display_data"
    }
   ],
   "source": [
    "plt.plot(owid_isr_filt.date, owid_isr_filt.weekly_hosp_admissions_per_million, label = \"weekly_hosp_admissions_per_million\")\n",
    "plt.xticks(rotation=45)\n",
    "plt.legend()\n",
    "plt.show()"
   ]
  },
  {
   "cell_type": "code",
   "execution_count": 37,
   "metadata": {
    "id": "KjxvcBLgp1gX"
   },
   "outputs": [],
   "source": [
    "owid_isr_filt = owid_isr_filt.set_index('date')"
   ]
  },
  {
   "cell_type": "code",
   "execution_count": 38,
   "metadata": {
    "id": "K2nxjExAtUSe"
   },
   "outputs": [],
   "source": [
    "#lagged as it is reactive and therefore assigning the stringency closer to the time of infection/contagion rather than test date\n",
    "owid_isr_filt[\"stringency_index_lagged\"] = owid_isr_filt.shift(7, axis = 0).stringency_index\n",
    "owid_isr_filt[\"new_cases_smoothed_per_million_lag\"] = owid_isr_filt.shift(7, axis = 0).new_cases_smoothed_per_million\n",
    "owid_isr_filt[\"reproduction_rate_lag\"] = owid_isr_filt.shift(7, axis = 0).reproduction_rate\n",
    "owid_isr_filt[\"weekly_icu_admissions_per_million_lag\"] = owid_isr_filt.shift(7, axis = 0).weekly_icu_admissions_per_million\n",
    "owid_isr_filt[\"weekly_hosp_admissions_per_million_lag\"] = owid_isr_filt.shift(7, axis = 0).weekly_hosp_admissions_per_million"
   ]
  },
  {
   "cell_type": "code",
   "execution_count": 39,
   "metadata": {
    "id": "DVLPvvAzwlcu"
   },
   "outputs": [],
   "source": [
    "# select columns needed once again to get to the final dataset which contain the lagged\n",
    "owid_isr_filt_lagged = owid_isr_filt[['new_cases_smoothed_per_million_lag', 'reproduction_rate_lag', 'weekly_icu_admissions_per_million_lag', 'weekly_hosp_admissions_per_million_lag', 'stringency_index_lagged']]"
   ]
  },
  {
   "cell_type": "code",
   "execution_count": 40,
   "metadata": {
    "id": "m6ovNJQEE9Xo"
   },
   "outputs": [],
   "source": [
    "#  do we want to do this?\n",
    "\n",
    "owid_isr_filt_lagged = owid_isr_filt_lagged[8:owid_isr_filt_lagged.shape[0]] # remove the NaN values from the lagging"
   ]
  },
  {
   "cell_type": "markdown",
   "metadata": {
    "id": "GNXn7gtnyBw6"
   },
   "source": [
    "### Join the IWOD features to the initial Covid test dataset"
   ]
  },
  {
   "cell_type": "code",
   "execution_count": 41,
   "metadata": {
    "id": "OmRvXC1C49v8"
   },
   "outputs": [],
   "source": [
    "combined_data = pd.merge(data, owid_isr_filt_lagged, left_index=True, right_index=True, how='inner')\n",
    "\n",
    "##Sort by date\n",
    "combined_data = combined_data.sort_index(ascending=True)"
   ]
  },
  {
   "cell_type": "markdown",
   "metadata": {
    "id": "UvKcFaseSn0B"
   },
   "source": [
    "## Slice data to latest 6 month period"
   ]
  },
  {
   "cell_type": "code",
   "execution_count": 42,
   "metadata": {
    "colab": {
     "base_uri": "https://localhost:8080/",
     "height": 444
    },
    "id": "VrNNqqpISoaO",
    "outputId": "0f957414-13fe-4433-ed26-dd485deb5f11"
   },
   "outputs": [
    {
     "data": {
      "text/html": [
       "<div>\n",
       "<style scoped>\n",
       "    .dataframe tbody tr th:only-of-type {\n",
       "        vertical-align: middle;\n",
       "    }\n",
       "\n",
       "    .dataframe tbody tr th {\n",
       "        vertical-align: top;\n",
       "    }\n",
       "\n",
       "    .dataframe thead th {\n",
       "        text-align: right;\n",
       "    }\n",
       "</style>\n",
       "<table border=\"1\" class=\"dataframe\">\n",
       "  <thead>\n",
       "    <tr style=\"text-align: right;\">\n",
       "      <th></th>\n",
       "      <th>cough</th>\n",
       "      <th>fever</th>\n",
       "      <th>sore_throat</th>\n",
       "      <th>shortness_of_breath</th>\n",
       "      <th>head_ache</th>\n",
       "      <th>corona_result_positive</th>\n",
       "      <th>age_60_and_above_Yes</th>\n",
       "      <th>gender_male</th>\n",
       "      <th>test_indication_Contact with confirmed</th>\n",
       "      <th>test_indication_Other</th>\n",
       "      <th>new_cases_smoothed_per_million_lag</th>\n",
       "      <th>reproduction_rate_lag</th>\n",
       "      <th>weekly_icu_admissions_per_million_lag</th>\n",
       "      <th>weekly_hosp_admissions_per_million_lag</th>\n",
       "      <th>stringency_index_lagged</th>\n",
       "    </tr>\n",
       "  </thead>\n",
       "  <tbody>\n",
       "    <tr>\n",
       "      <th>2021-07-07</th>\n",
       "      <td>0</td>\n",
       "      <td>0</td>\n",
       "      <td>0</td>\n",
       "      <td>0</td>\n",
       "      <td>0</td>\n",
       "      <td>0</td>\n",
       "      <td>1</td>\n",
       "      <td>1</td>\n",
       "      <td>0</td>\n",
       "      <td>1</td>\n",
       "      <td>23.863</td>\n",
       "      <td>1.89</td>\n",
       "      <td>0.108</td>\n",
       "      <td>5.489</td>\n",
       "      <td>29.63</td>\n",
       "    </tr>\n",
       "    <tr>\n",
       "      <th>2021-07-07</th>\n",
       "      <td>0</td>\n",
       "      <td>0</td>\n",
       "      <td>0</td>\n",
       "      <td>0</td>\n",
       "      <td>0</td>\n",
       "      <td>0</td>\n",
       "      <td>0</td>\n",
       "      <td>0</td>\n",
       "      <td>0</td>\n",
       "      <td>1</td>\n",
       "      <td>23.863</td>\n",
       "      <td>1.89</td>\n",
       "      <td>0.108</td>\n",
       "      <td>5.489</td>\n",
       "      <td>29.63</td>\n",
       "    </tr>\n",
       "    <tr>\n",
       "      <th>2021-07-07</th>\n",
       "      <td>0</td>\n",
       "      <td>0</td>\n",
       "      <td>0</td>\n",
       "      <td>0</td>\n",
       "      <td>0</td>\n",
       "      <td>0</td>\n",
       "      <td>0</td>\n",
       "      <td>0</td>\n",
       "      <td>0</td>\n",
       "      <td>1</td>\n",
       "      <td>23.863</td>\n",
       "      <td>1.89</td>\n",
       "      <td>0.108</td>\n",
       "      <td>5.489</td>\n",
       "      <td>29.63</td>\n",
       "    </tr>\n",
       "    <tr>\n",
       "      <th>2021-07-07</th>\n",
       "      <td>0</td>\n",
       "      <td>0</td>\n",
       "      <td>0</td>\n",
       "      <td>0</td>\n",
       "      <td>0</td>\n",
       "      <td>0</td>\n",
       "      <td>0</td>\n",
       "      <td>0</td>\n",
       "      <td>0</td>\n",
       "      <td>1</td>\n",
       "      <td>23.863</td>\n",
       "      <td>1.89</td>\n",
       "      <td>0.108</td>\n",
       "      <td>5.489</td>\n",
       "      <td>29.63</td>\n",
       "    </tr>\n",
       "    <tr>\n",
       "      <th>2021-07-07</th>\n",
       "      <td>0</td>\n",
       "      <td>0</td>\n",
       "      <td>0</td>\n",
       "      <td>0</td>\n",
       "      <td>0</td>\n",
       "      <td>0</td>\n",
       "      <td>0</td>\n",
       "      <td>0</td>\n",
       "      <td>0</td>\n",
       "      <td>1</td>\n",
       "      <td>23.863</td>\n",
       "      <td>1.89</td>\n",
       "      <td>0.108</td>\n",
       "      <td>5.489</td>\n",
       "      <td>29.63</td>\n",
       "    </tr>\n",
       "    <tr>\n",
       "      <th>2021-07-07</th>\n",
       "      <td>0</td>\n",
       "      <td>0</td>\n",
       "      <td>0</td>\n",
       "      <td>0</td>\n",
       "      <td>0</td>\n",
       "      <td>0</td>\n",
       "      <td>0</td>\n",
       "      <td>1</td>\n",
       "      <td>0</td>\n",
       "      <td>1</td>\n",
       "      <td>23.863</td>\n",
       "      <td>1.89</td>\n",
       "      <td>0.108</td>\n",
       "      <td>5.489</td>\n",
       "      <td>29.63</td>\n",
       "    </tr>\n",
       "    <tr>\n",
       "      <th>2021-07-07</th>\n",
       "      <td>0</td>\n",
       "      <td>0</td>\n",
       "      <td>0</td>\n",
       "      <td>0</td>\n",
       "      <td>0</td>\n",
       "      <td>0</td>\n",
       "      <td>0</td>\n",
       "      <td>1</td>\n",
       "      <td>0</td>\n",
       "      <td>1</td>\n",
       "      <td>23.863</td>\n",
       "      <td>1.89</td>\n",
       "      <td>0.108</td>\n",
       "      <td>5.489</td>\n",
       "      <td>29.63</td>\n",
       "    </tr>\n",
       "    <tr>\n",
       "      <th>2021-07-07</th>\n",
       "      <td>0</td>\n",
       "      <td>0</td>\n",
       "      <td>0</td>\n",
       "      <td>0</td>\n",
       "      <td>0</td>\n",
       "      <td>0</td>\n",
       "      <td>0</td>\n",
       "      <td>1</td>\n",
       "      <td>0</td>\n",
       "      <td>1</td>\n",
       "      <td>23.863</td>\n",
       "      <td>1.89</td>\n",
       "      <td>0.108</td>\n",
       "      <td>5.489</td>\n",
       "      <td>29.63</td>\n",
       "    </tr>\n",
       "    <tr>\n",
       "      <th>2021-07-07</th>\n",
       "      <td>0</td>\n",
       "      <td>0</td>\n",
       "      <td>0</td>\n",
       "      <td>0</td>\n",
       "      <td>0</td>\n",
       "      <td>0</td>\n",
       "      <td>1</td>\n",
       "      <td>1</td>\n",
       "      <td>0</td>\n",
       "      <td>1</td>\n",
       "      <td>23.863</td>\n",
       "      <td>1.89</td>\n",
       "      <td>0.108</td>\n",
       "      <td>5.489</td>\n",
       "      <td>29.63</td>\n",
       "    </tr>\n",
       "    <tr>\n",
       "      <th>2021-07-07</th>\n",
       "      <td>0</td>\n",
       "      <td>0</td>\n",
       "      <td>0</td>\n",
       "      <td>0</td>\n",
       "      <td>0</td>\n",
       "      <td>0</td>\n",
       "      <td>1</td>\n",
       "      <td>1</td>\n",
       "      <td>0</td>\n",
       "      <td>1</td>\n",
       "      <td>23.863</td>\n",
       "      <td>1.89</td>\n",
       "      <td>0.108</td>\n",
       "      <td>5.489</td>\n",
       "      <td>29.63</td>\n",
       "    </tr>\n",
       "  </tbody>\n",
       "</table>\n",
       "</div>"
      ],
      "text/plain": [
       "            cough  fever  sore_throat  shortness_of_breath  head_ache  \\\n",
       "2021-07-07      0      0            0                    0          0   \n",
       "2021-07-07      0      0            0                    0          0   \n",
       "2021-07-07      0      0            0                    0          0   \n",
       "2021-07-07      0      0            0                    0          0   \n",
       "2021-07-07      0      0            0                    0          0   \n",
       "2021-07-07      0      0            0                    0          0   \n",
       "2021-07-07      0      0            0                    0          0   \n",
       "2021-07-07      0      0            0                    0          0   \n",
       "2021-07-07      0      0            0                    0          0   \n",
       "2021-07-07      0      0            0                    0          0   \n",
       "\n",
       "            corona_result_positive  age_60_and_above_Yes  gender_male  \\\n",
       "2021-07-07                       0                     1            1   \n",
       "2021-07-07                       0                     0            0   \n",
       "2021-07-07                       0                     0            0   \n",
       "2021-07-07                       0                     0            0   \n",
       "2021-07-07                       0                     0            0   \n",
       "2021-07-07                       0                     0            1   \n",
       "2021-07-07                       0                     0            1   \n",
       "2021-07-07                       0                     0            1   \n",
       "2021-07-07                       0                     1            1   \n",
       "2021-07-07                       0                     1            1   \n",
       "\n",
       "            test_indication_Contact with confirmed  test_indication_Other  \\\n",
       "2021-07-07                                       0                      1   \n",
       "2021-07-07                                       0                      1   \n",
       "2021-07-07                                       0                      1   \n",
       "2021-07-07                                       0                      1   \n",
       "2021-07-07                                       0                      1   \n",
       "2021-07-07                                       0                      1   \n",
       "2021-07-07                                       0                      1   \n",
       "2021-07-07                                       0                      1   \n",
       "2021-07-07                                       0                      1   \n",
       "2021-07-07                                       0                      1   \n",
       "\n",
       "            new_cases_smoothed_per_million_lag  reproduction_rate_lag  \\\n",
       "2021-07-07                              23.863                   1.89   \n",
       "2021-07-07                              23.863                   1.89   \n",
       "2021-07-07                              23.863                   1.89   \n",
       "2021-07-07                              23.863                   1.89   \n",
       "2021-07-07                              23.863                   1.89   \n",
       "2021-07-07                              23.863                   1.89   \n",
       "2021-07-07                              23.863                   1.89   \n",
       "2021-07-07                              23.863                   1.89   \n",
       "2021-07-07                              23.863                   1.89   \n",
       "2021-07-07                              23.863                   1.89   \n",
       "\n",
       "            weekly_icu_admissions_per_million_lag  \\\n",
       "2021-07-07                                  0.108   \n",
       "2021-07-07                                  0.108   \n",
       "2021-07-07                                  0.108   \n",
       "2021-07-07                                  0.108   \n",
       "2021-07-07                                  0.108   \n",
       "2021-07-07                                  0.108   \n",
       "2021-07-07                                  0.108   \n",
       "2021-07-07                                  0.108   \n",
       "2021-07-07                                  0.108   \n",
       "2021-07-07                                  0.108   \n",
       "\n",
       "            weekly_hosp_admissions_per_million_lag  stringency_index_lagged  \n",
       "2021-07-07                                   5.489                    29.63  \n",
       "2021-07-07                                   5.489                    29.63  \n",
       "2021-07-07                                   5.489                    29.63  \n",
       "2021-07-07                                   5.489                    29.63  \n",
       "2021-07-07                                   5.489                    29.63  \n",
       "2021-07-07                                   5.489                    29.63  \n",
       "2021-07-07                                   5.489                    29.63  \n",
       "2021-07-07                                   5.489                    29.63  \n",
       "2021-07-07                                   5.489                    29.63  \n",
       "2021-07-07                                   5.489                    29.63  "
      ]
     },
     "execution_count": 42,
     "metadata": {},
     "output_type": "execute_result"
    }
   ],
   "source": [
    "##Filter to last 6-7 months of data required\n",
    "combined_data_filt = combined_data[combined_data.index >= \"2021-06-01\"]\n",
    "combined_data_filt.head(10)"
   ]
  },
  {
   "cell_type": "markdown",
   "metadata": {
    "id": "vPP9zJLgGhQ8"
   },
   "source": [
    "## Split into train and test\n",
    "Using 80:20 ratio"
   ]
  },
  {
   "cell_type": "code",
   "execution_count": 43,
   "metadata": {
    "id": "Xqfc6-bmGlYe"
   },
   "outputs": [],
   "source": [
    "#sort data ascending order\n",
    "combined_data_filt = combined_data_filt.sort_index(ascending=True)\n",
    "\n",
    "# retrive latest date based on 80% or the total rows\n",
    "n_rows = int(combined_data_filt.shape[0]*0.8)\n",
    "latest_date = combined_data_filt.index[:n_rows].max()"
   ]
  },
  {
   "cell_type": "code",
   "execution_count": 44,
   "metadata": {
    "colab": {
     "base_uri": "https://localhost:8080/"
    },
    "id": "MMFU6y4jGttA",
    "outputId": "1cedd12c-6fa2-40c7-9b1d-fc2a5c580b58"
   },
   "outputs": [
    {
     "data": {
      "text/plain": [
       "Timestamp('2022-01-14 00:00:00')"
      ]
     },
     "execution_count": 44,
     "metadata": {},
     "output_type": "execute_result"
    }
   ],
   "source": [
    "# visual inspect last date training set\n",
    "latest_date"
   ]
  },
  {
   "cell_type": "code",
   "execution_count": 45,
   "metadata": {
    "colab": {
     "base_uri": "https://localhost:8080/"
    },
    "id": "KuriaMmrGxyD",
    "outputId": "a4072ac7-50bc-4720-f2d9-5cd9e43f7de5"
   },
   "outputs": [
    {
     "name": "stdout",
     "output_type": "stream",
     "text": [
      "Min test date: 2022-01-15 00:00:00\n",
      "Max train date 2022-01-14 00:00:00\n"
     ]
    }
   ],
   "source": [
    "# TIME SERIES APPROACH\n",
    "td = pd.Timedelta(days = 1)\n",
    "\n",
    "#  train / test datasets for time series (ts) approach using latest 6 months\n",
    "train_ts = combined_data_filt.loc[:latest_date]\n",
    "test_ts = combined_data_filt.loc[latest_date+td:]\n",
    "\n",
    "# test train and test set do not overlap\n",
    "assert not set(test_ts.index).intersection(set(train_ts.index)), \"no overlap in train and set index by day\"\n",
    "\n",
    "# visual inspect on time series\n",
    "print(f'Min test date: {test_ts.index.min()}\\nMax train date {train_ts.index.max()}')\n",
    "\n",
    "# split train/test datasets into X and y sets\n",
    "y_train_ts, X_train_ts = train_ts[\"corona_result_positive\"], train_ts.drop(columns = \"corona_result_positive\")\n",
    "y_test_ts, X_test_ts = test_ts[\"corona_result_positive\"], test_ts.drop(columns = \"corona_result_positive\")\n",
    "\n",
    "\n",
    "\n",
    "# RANDOM APPROACH\n",
    "# train / test datasets for random (rnd) approach using sample\n",
    "y = combined_data_filt[\"corona_result_positive\"]\n",
    "X = combined_data_filt.drop(\"corona_result_positive\", axis=1)\n",
    "\n",
    "X_train_rnd, X_test_rnd, y_train_rnd, y_test_rnd = train_test_split(X, y, train_size=0.8, random_state=42)\n"
   ]
  },
  {
   "cell_type": "markdown",
   "metadata": {
    "id": "mJhXfWBGSVYQ"
   },
   "source": [
    "## Feature Engineering - Pipeline\n",
    "\n",
    "- delcare functions and import required packages\n",
    "- start with DummyClassfier() to create a baseline expectation of a classifier"
   ]
  },
  {
   "cell_type": "code",
   "execution_count": 69,
   "metadata": {
    "id": "N1wGDfJeQXqw"
   },
   "outputs": [],
   "source": [
    "def evaluate_model(X, y, scoring , model,\n",
    "                   splits=3,n_repeats=3,):\n",
    "    \"\"\"\n",
    "    Given a proposed model and X y pairs \n",
    "    cross validate keeping class imbalance on splits\n",
    "    \"\"\"\n",
    "    model = Pipeline(steps=[\n",
    "        ('scaler', preprocessor),\n",
    "        ('model', model) \n",
    "    ])\n",
    "    cv = RepeatedStratifiedKFold(n_splits=splits, \n",
    "                                 n_repeats=n_repeats, \n",
    "                                 random_state=42)\n",
    "    scores = cross_validate(model, X, y, scoring=scoring, cv=cv, n_jobs=-1)\n",
    "    return scores\n",
    "\n",
    "\n",
    "def run_evaluate_model(X, y, scoring , array_models,\n",
    "                       splits=3,n_repeats=3):\n",
    "    \"\"\"\n",
    "    Run evaluate models for each models\n",
    "    present in array models\n",
    "    \"\"\"\n",
    "    model_scores = dict()\n",
    "    for model in array_models:\n",
    "        model_name = model.__class__.__name__\n",
    "        eval_scores = evaluate_model(X=X, y=y, scoring=scoring, \n",
    "                                    model= model,\n",
    "                                    splits=splits,n_repeats=n_repeats)\n",
    "        # filter out time benchmarks from eval_scores\n",
    "        eval_scores = {key: array \n",
    "                       for key , array in eval_scores.items()\n",
    "                       if 'test' in key}\n",
    "        model_scores[model_name] = eval_scores\n",
    "    # hacked a bit\n",
    "    frames = list()\n",
    "    for model, scores in model_scores.items():\n",
    "        frames.append(pd.DataFrame(scores).assign(model=model))\n",
    "        final_scores = pd.concat(frames)\n",
    "    return final_scores"
   ]
  },
  {
   "cell_type": "markdown",
   "metadata": {
    "id": "0K1I8wIuQo5k"
   },
   "source": [
    "## Run models"
   ]
  },
  {
   "cell_type": "code",
   "execution_count": 58,
   "metadata": {},
   "outputs": [],
   "source": [
    "pd.set_option('display.float_format', lambda x: '%.5f' % x)"
   ]
  },
  {
   "cell_type": "code",
   "execution_count": 70,
   "metadata": {
    "id": "RK56DkKAIfWp"
   },
   "outputs": [],
   "source": [
    "# set metrics in dict for evaultion\n",
    "scoring = {'acc': 'accuracy', 'roc_auc': 'roc_auc', 'pr_auc': 'average_precision', 'recall': 'recall'}\n",
    "\n",
    "# list of continius variables\n",
    "cont_vars = ['stringency_index_lagged', 'new_cases_smoothed_per_million_lag', 'reproduction_rate_lag',\n",
    "             'weekly_icu_admissions_per_million_lag', 'weekly_hosp_admissions_per_million_lag']\n",
    "\n",
    "\n",
    "\n",
    "# preprocess numerical features\n",
    "preprocessor = ColumnTransformer(\n",
    "    transformers=[\n",
    "        (\"scaler\", MinMaxScaler() , cont_vars) \n",
    "    ], remainder='passthrough' # factor features will not be dropped\n",
    ")\n",
    "\n",
    "\n",
    "# create list of models that we want to use\n",
    "models = [DummyClassifier(strategy='constant', constant=1), \n",
    "          DecisionTreeClassifier(max_depth=3)]\n",
    "\n",
    "\n",
    "# evaluate models\n",
    "model_scores_ts = run_evaluate_model(X = X_train_ts, \n",
    "                                  y = y_train_ts,\n",
    "                                  scoring = scoring, array_models=models)\n",
    "\n",
    "model_scores_rnd = run_evaluate_model(X = X_train_rnd, \n",
    "                                  y = y_train_rnd,\n",
    "                                  scoring = scoring, array_models=models)"
   ]
  },
  {
   "cell_type": "code",
   "execution_count": 71,
   "metadata": {
    "id": "qS2phMbDdmqY"
   },
   "outputs": [],
   "source": [
    "def agg_results(model_scores):\n",
    "  return model_scores.groupby('model').agg({'test_acc':['mean', 'std'], 'test_roc_auc':['mean', 'std'],'test_pr_auc':['mean', 'std']})"
   ]
  },
  {
   "cell_type": "code",
   "execution_count": 72,
   "metadata": {
    "colab": {
     "base_uri": "https://localhost:8080/",
     "height": 175
    },
    "id": "QK-682j0bmpq",
    "outputId": "24647ae6-d712-48e6-ffa4-8831e2ac69eb"
   },
   "outputs": [
    {
     "data": {
      "text/html": [
       "<div>\n",
       "<style scoped>\n",
       "    .dataframe tbody tr th:only-of-type {\n",
       "        vertical-align: middle;\n",
       "    }\n",
       "\n",
       "    .dataframe tbody tr th {\n",
       "        vertical-align: top;\n",
       "    }\n",
       "\n",
       "    .dataframe thead tr th {\n",
       "        text-align: left;\n",
       "    }\n",
       "\n",
       "    .dataframe thead tr:last-of-type th {\n",
       "        text-align: right;\n",
       "    }\n",
       "</style>\n",
       "<table border=\"1\" class=\"dataframe\">\n",
       "  <thead>\n",
       "    <tr>\n",
       "      <th></th>\n",
       "      <th colspan=\"2\" halign=\"left\">test_acc</th>\n",
       "      <th colspan=\"2\" halign=\"left\">test_roc_auc</th>\n",
       "      <th colspan=\"2\" halign=\"left\">test_pr_auc</th>\n",
       "    </tr>\n",
       "    <tr>\n",
       "      <th></th>\n",
       "      <th>mean</th>\n",
       "      <th>std</th>\n",
       "      <th>mean</th>\n",
       "      <th>std</th>\n",
       "      <th>mean</th>\n",
       "      <th>std</th>\n",
       "    </tr>\n",
       "    <tr>\n",
       "      <th>model</th>\n",
       "      <th></th>\n",
       "      <th></th>\n",
       "      <th></th>\n",
       "      <th></th>\n",
       "      <th></th>\n",
       "      <th></th>\n",
       "    </tr>\n",
       "  </thead>\n",
       "  <tbody>\n",
       "    <tr>\n",
       "      <th>DecisionTreeClassifier</th>\n",
       "      <td>0.82992</td>\n",
       "      <td>0.00082</td>\n",
       "      <td>0.77438</td>\n",
       "      <td>0.00164</td>\n",
       "      <td>0.40833</td>\n",
       "      <td>0.00667</td>\n",
       "    </tr>\n",
       "    <tr>\n",
       "      <th>DummyClassifier</th>\n",
       "      <td>0.17679</td>\n",
       "      <td>0.00000</td>\n",
       "      <td>0.50000</td>\n",
       "      <td>0.00000</td>\n",
       "      <td>0.17679</td>\n",
       "      <td>0.00000</td>\n",
       "    </tr>\n",
       "  </tbody>\n",
       "</table>\n",
       "</div>"
      ],
      "text/plain": [
       "                       test_acc         test_roc_auc         test_pr_auc  \\\n",
       "                           mean     std         mean     std        mean   \n",
       "model                                                                      \n",
       "DecisionTreeClassifier  0.82992 0.00082      0.77438 0.00164     0.40833   \n",
       "DummyClassifier         0.17679 0.00000      0.50000 0.00000     0.17679   \n",
       "\n",
       "                                \n",
       "                           std  \n",
       "model                           \n",
       "DecisionTreeClassifier 0.00667  \n",
       "DummyClassifier        0.00000  "
      ]
     },
     "execution_count": 72,
     "metadata": {},
     "output_type": "execute_result"
    }
   ],
   "source": [
    "model_scores_rnd.groupby('model').agg({'test_acc':['mean', 'std'], 'test_roc_auc':['mean', 'std'],'test_pr_auc':['mean', 'std']})"
   ]
  },
  {
   "cell_type": "code",
   "execution_count": 73,
   "metadata": {
    "colab": {
     "base_uri": "https://localhost:8080/",
     "height": 175
    },
    "id": "R3w3zGCRWFhy",
    "outputId": "b68f1b09-3cc1-4c70-9602-d3efcaae6cb1"
   },
   "outputs": [
    {
     "data": {
      "text/html": [
       "<div>\n",
       "<style scoped>\n",
       "    .dataframe tbody tr th:only-of-type {\n",
       "        vertical-align: middle;\n",
       "    }\n",
       "\n",
       "    .dataframe tbody tr th {\n",
       "        vertical-align: top;\n",
       "    }\n",
       "\n",
       "    .dataframe thead tr th {\n",
       "        text-align: left;\n",
       "    }\n",
       "\n",
       "    .dataframe thead tr:last-of-type th {\n",
       "        text-align: right;\n",
       "    }\n",
       "</style>\n",
       "<table border=\"1\" class=\"dataframe\">\n",
       "  <thead>\n",
       "    <tr>\n",
       "      <th></th>\n",
       "      <th colspan=\"2\" halign=\"left\">test_acc</th>\n",
       "      <th colspan=\"2\" halign=\"left\">test_roc_auc</th>\n",
       "      <th colspan=\"2\" halign=\"left\">test_pr_auc</th>\n",
       "    </tr>\n",
       "    <tr>\n",
       "      <th></th>\n",
       "      <th>mean</th>\n",
       "      <th>std</th>\n",
       "      <th>mean</th>\n",
       "      <th>std</th>\n",
       "      <th>mean</th>\n",
       "      <th>std</th>\n",
       "    </tr>\n",
       "    <tr>\n",
       "      <th>model</th>\n",
       "      <th></th>\n",
       "      <th></th>\n",
       "      <th></th>\n",
       "      <th></th>\n",
       "      <th></th>\n",
       "      <th></th>\n",
       "    </tr>\n",
       "  </thead>\n",
       "  <tbody>\n",
       "    <tr>\n",
       "      <th>DecisionTreeClassifier</th>\n",
       "      <td>0.89462</td>\n",
       "      <td>0.00011</td>\n",
       "      <td>0.72881</td>\n",
       "      <td>0.00203</td>\n",
       "      <td>0.31422</td>\n",
       "      <td>0.00182</td>\n",
       "    </tr>\n",
       "    <tr>\n",
       "      <th>DummyClassifier</th>\n",
       "      <td>0.11114</td>\n",
       "      <td>0.00000</td>\n",
       "      <td>0.50000</td>\n",
       "      <td>0.00000</td>\n",
       "      <td>0.11114</td>\n",
       "      <td>0.00000</td>\n",
       "    </tr>\n",
       "  </tbody>\n",
       "</table>\n",
       "</div>"
      ],
      "text/plain": [
       "                       test_acc         test_roc_auc         test_pr_auc  \\\n",
       "                           mean     std         mean     std        mean   \n",
       "model                                                                      \n",
       "DecisionTreeClassifier  0.89462 0.00011      0.72881 0.00203     0.31422   \n",
       "DummyClassifier         0.11114 0.00000      0.50000 0.00000     0.11114   \n",
       "\n",
       "                                \n",
       "                           std  \n",
       "model                           \n",
       "DecisionTreeClassifier 0.00182  \n",
       "DummyClassifier        0.00000  "
      ]
     },
     "execution_count": 73,
     "metadata": {},
     "output_type": "execute_result"
    }
   ],
   "source": [
    "model_scores_ts.groupby('model').agg({'test_acc':['mean', 'std'], 'test_roc_auc':['mean', 'std'],'test_pr_auc':['mean', 'std']})"
   ]
  },
  {
   "cell_type": "code",
   "execution_count": 74,
   "metadata": {
    "id": "Yjt9anKyaBk0"
   },
   "outputs": [],
   "source": [
    "bagging_kwargs = dict(n_estimators=200,\n",
    "                      max_leaf_nodes=16, \n",
    "                      n_jobs=-1,\n",
    "                      class_weight='balanced')\n",
    "\n",
    "rnd_clf = RandomForestClassifier(**bagging_kwargs)\n",
    "ext_clf  = ExtraTreesClassifier(**bagging_kwargs)\n",
    "ada_clf = AdaBoostClassifier(\n",
    "    DecisionTreeClassifier(max_depth=1),\n",
    "    n_estimators=200,\n",
    "    algorithm=\"SAMME.R\",\n",
    "    learning_rate=.5)\n",
    "\n",
    "grd_clf = GradientBoostingClassifier(max_depth=2,\n",
    "                                     n_estimators=100,\n",
    "                                     learning_rate=0.1,\n",
    "                                     warm_start=False)"
   ]
  },
  {
   "cell_type": "code",
   "execution_count": 75,
   "metadata": {
    "id": "AtWXJRc9bIvq"
   },
   "outputs": [],
   "source": [
    "# create list of models that we want to use\n",
    "models = [grd_clf, ext_clf, ada_clf, rnd_clf]\n",
    "\n",
    "\n",
    "# evaluate models\n",
    "model_scores_ts_boost = run_evaluate_model(X = X_train_ts, \n",
    "                                  y = y_train_ts,\n",
    "                                  scoring = scoring, array_models=models)\n"
   ]
  },
  {
   "cell_type": "code",
   "execution_count": 77,
   "metadata": {
    "id": "j9P0ALZSdkNr"
   },
   "outputs": [
    {
     "data": {
      "text/html": [
       "<div>\n",
       "<style scoped>\n",
       "    .dataframe tbody tr th:only-of-type {\n",
       "        vertical-align: middle;\n",
       "    }\n",
       "\n",
       "    .dataframe tbody tr th {\n",
       "        vertical-align: top;\n",
       "    }\n",
       "\n",
       "    .dataframe thead tr th {\n",
       "        text-align: left;\n",
       "    }\n",
       "\n",
       "    .dataframe thead tr:last-of-type th {\n",
       "        text-align: right;\n",
       "    }\n",
       "</style>\n",
       "<table border=\"1\" class=\"dataframe\">\n",
       "  <thead>\n",
       "    <tr>\n",
       "      <th></th>\n",
       "      <th colspan=\"2\" halign=\"left\">test_acc</th>\n",
       "      <th colspan=\"2\" halign=\"left\">test_roc_auc</th>\n",
       "      <th colspan=\"2\" halign=\"left\">test_pr_auc</th>\n",
       "    </tr>\n",
       "    <tr>\n",
       "      <th></th>\n",
       "      <th>mean</th>\n",
       "      <th>std</th>\n",
       "      <th>mean</th>\n",
       "      <th>std</th>\n",
       "      <th>mean</th>\n",
       "      <th>std</th>\n",
       "    </tr>\n",
       "    <tr>\n",
       "      <th>model</th>\n",
       "      <th></th>\n",
       "      <th></th>\n",
       "      <th></th>\n",
       "      <th></th>\n",
       "      <th></th>\n",
       "      <th></th>\n",
       "    </tr>\n",
       "  </thead>\n",
       "  <tbody>\n",
       "    <tr>\n",
       "      <th>AdaBoostClassifier</th>\n",
       "      <td>0.89330</td>\n",
       "      <td>0.00012</td>\n",
       "      <td>0.80286</td>\n",
       "      <td>0.00090</td>\n",
       "      <td>0.37316</td>\n",
       "      <td>0.00154</td>\n",
       "    </tr>\n",
       "    <tr>\n",
       "      <th>ExtraTreesClassifier</th>\n",
       "      <td>0.80219</td>\n",
       "      <td>0.00189</td>\n",
       "      <td>0.80834</td>\n",
       "      <td>0.00105</td>\n",
       "      <td>0.39124</td>\n",
       "      <td>0.00266</td>\n",
       "    </tr>\n",
       "    <tr>\n",
       "      <th>GradientBoostingClassifier</th>\n",
       "      <td>0.89552</td>\n",
       "      <td>0.00022</td>\n",
       "      <td>0.81042</td>\n",
       "      <td>0.00095</td>\n",
       "      <td>0.39826</td>\n",
       "      <td>0.00185</td>\n",
       "    </tr>\n",
       "    <tr>\n",
       "      <th>RandomForestClassifier</th>\n",
       "      <td>0.80557</td>\n",
       "      <td>0.00032</td>\n",
       "      <td>0.80809</td>\n",
       "      <td>0.00127</td>\n",
       "      <td>0.38640</td>\n",
       "      <td>0.00380</td>\n",
       "    </tr>\n",
       "  </tbody>\n",
       "</table>\n",
       "</div>"
      ],
      "text/plain": [
       "                           test_acc         test_roc_auc         test_pr_auc  \\\n",
       "                               mean     std         mean     std        mean   \n",
       "model                                                                          \n",
       "AdaBoostClassifier          0.89330 0.00012      0.80286 0.00090     0.37316   \n",
       "ExtraTreesClassifier        0.80219 0.00189      0.80834 0.00105     0.39124   \n",
       "GradientBoostingClassifier  0.89552 0.00022      0.81042 0.00095     0.39826   \n",
       "RandomForestClassifier      0.80557 0.00032      0.80809 0.00127     0.38640   \n",
       "\n",
       "                                    \n",
       "                               std  \n",
       "model                               \n",
       "AdaBoostClassifier         0.00154  \n",
       "ExtraTreesClassifier       0.00266  \n",
       "GradientBoostingClassifier 0.00185  \n",
       "RandomForestClassifier     0.00380  "
      ]
     },
     "execution_count": 77,
     "metadata": {},
     "output_type": "execute_result"
    }
   ],
   "source": [
    "agg_results(model_scores_ts_boost)"
   ]
  },
  {
   "cell_type": "code",
   "execution_count": 78,
   "metadata": {},
   "outputs": [],
   "source": [
    "# evaluate models\n",
    "model_scores_rnd_boost = run_evaluate_model(X = X_train_rnd, \n",
    "                                  y = y_train_rnd,\n",
    "                                  scoring = scoring, array_models=models)"
   ]
  },
  {
   "cell_type": "code",
   "execution_count": 79,
   "metadata": {
    "id": "le2kypYMdyRs"
   },
   "outputs": [
    {
     "data": {
      "text/html": [
       "<div>\n",
       "<style scoped>\n",
       "    .dataframe tbody tr th:only-of-type {\n",
       "        vertical-align: middle;\n",
       "    }\n",
       "\n",
       "    .dataframe tbody tr th {\n",
       "        vertical-align: top;\n",
       "    }\n",
       "\n",
       "    .dataframe thead tr th {\n",
       "        text-align: left;\n",
       "    }\n",
       "\n",
       "    .dataframe thead tr:last-of-type th {\n",
       "        text-align: right;\n",
       "    }\n",
       "</style>\n",
       "<table border=\"1\" class=\"dataframe\">\n",
       "  <thead>\n",
       "    <tr>\n",
       "      <th></th>\n",
       "      <th colspan=\"2\" halign=\"left\">test_acc</th>\n",
       "      <th colspan=\"2\" halign=\"left\">test_roc_auc</th>\n",
       "      <th colspan=\"2\" halign=\"left\">test_pr_auc</th>\n",
       "    </tr>\n",
       "    <tr>\n",
       "      <th></th>\n",
       "      <th>mean</th>\n",
       "      <th>std</th>\n",
       "      <th>mean</th>\n",
       "      <th>std</th>\n",
       "      <th>mean</th>\n",
       "      <th>std</th>\n",
       "    </tr>\n",
       "    <tr>\n",
       "      <th>model</th>\n",
       "      <th></th>\n",
       "      <th></th>\n",
       "      <th></th>\n",
       "      <th></th>\n",
       "      <th></th>\n",
       "      <th></th>\n",
       "    </tr>\n",
       "  </thead>\n",
       "  <tbody>\n",
       "    <tr>\n",
       "      <th>AdaBoostClassifier</th>\n",
       "      <td>0.83554</td>\n",
       "      <td>0.00021</td>\n",
       "      <td>0.82641</td>\n",
       "      <td>0.00049</td>\n",
       "      <td>0.49104</td>\n",
       "      <td>0.00103</td>\n",
       "    </tr>\n",
       "    <tr>\n",
       "      <th>ExtraTreesClassifier</th>\n",
       "      <td>0.74993</td>\n",
       "      <td>0.00316</td>\n",
       "      <td>0.82638</td>\n",
       "      <td>0.00043</td>\n",
       "      <td>0.49174</td>\n",
       "      <td>0.00167</td>\n",
       "    </tr>\n",
       "    <tr>\n",
       "      <th>GradientBoostingClassifier</th>\n",
       "      <td>0.83760</td>\n",
       "      <td>0.00023</td>\n",
       "      <td>0.83101</td>\n",
       "      <td>0.00045</td>\n",
       "      <td>0.50736</td>\n",
       "      <td>0.00166</td>\n",
       "    </tr>\n",
       "    <tr>\n",
       "      <th>RandomForestClassifier</th>\n",
       "      <td>0.74628</td>\n",
       "      <td>0.00406</td>\n",
       "      <td>0.82736</td>\n",
       "      <td>0.00049</td>\n",
       "      <td>0.49095</td>\n",
       "      <td>0.00230</td>\n",
       "    </tr>\n",
       "  </tbody>\n",
       "</table>\n",
       "</div>"
      ],
      "text/plain": [
       "                           test_acc         test_roc_auc         test_pr_auc  \\\n",
       "                               mean     std         mean     std        mean   \n",
       "model                                                                          \n",
       "AdaBoostClassifier          0.83554 0.00021      0.82641 0.00049     0.49104   \n",
       "ExtraTreesClassifier        0.74993 0.00316      0.82638 0.00043     0.49174   \n",
       "GradientBoostingClassifier  0.83760 0.00023      0.83101 0.00045     0.50736   \n",
       "RandomForestClassifier      0.74628 0.00406      0.82736 0.00049     0.49095   \n",
       "\n",
       "                                    \n",
       "                               std  \n",
       "model                               \n",
       "AdaBoostClassifier         0.00103  \n",
       "ExtraTreesClassifier       0.00167  \n",
       "GradientBoostingClassifier 0.00166  \n",
       "RandomForestClassifier     0.00230  "
      ]
     },
     "execution_count": 79,
     "metadata": {},
     "output_type": "execute_result"
    }
   ],
   "source": [
    "agg_results(model_scores_rnd_boost)"
   ]
  },
  {
   "cell_type": "code",
   "execution_count": 80,
   "metadata": {},
   "outputs": [],
   "source": [
    "# final model \n",
    "model = Pipeline(steps=[\n",
    "        ('scaler', preprocessor),\n",
    "        ('model', grd_clf)\n",
    "    ])\n",
    "\n",
    "model.fit(X_train_ts, y_train_ts)\n",
    "ypred_ts = model.predict(X_test_ts)\n",
    "\n",
    "model = Pipeline(steps=[\n",
    "        ('scaler', preprocessor),\n",
    "        ('model', grd_clf) \n",
    "    ])\n",
    "\n",
    "model.fit(X_train_rnd, y_train_rnd)\n",
    "ypred_rnd = model.predict(X_test_rnd)"
   ]
  },
  {
   "cell_type": "code",
   "execution_count": 82,
   "metadata": {},
   "outputs": [
    {
     "name": "stdout",
     "output_type": "stream",
     "text": [
      "              precision    recall  f1-score   support\n",
      "\n",
      "           0       0.57      0.99      0.72    212882\n",
      "           1       0.86      0.04      0.08    170110\n",
      "\n",
      "    accuracy                           0.57    382992\n",
      "   macro avg       0.71      0.52      0.40    382992\n",
      "weighted avg       0.69      0.57      0.44    382992\n",
      "\n"
     ]
    }
   ],
   "source": [
    "print(classification_report(y_true=y_test_ts, y_pred=ypred_ts))"
   ]
  },
  {
   "cell_type": "code",
   "execution_count": 83,
   "metadata": {},
   "outputs": [
    {
     "name": "stdout",
     "output_type": "stream",
     "text": [
      "              precision    recall  f1-score   support\n",
      "\n",
      "           0       0.85      0.97      0.91    320292\n",
      "           1       0.63      0.21      0.31     68631\n",
      "\n",
      "    accuracy                           0.84    388923\n",
      "   macro avg       0.74      0.59      0.61    388923\n",
      "weighted avg       0.81      0.84      0.80    388923\n",
      "\n"
     ]
    }
   ],
   "source": [
    "print(classification_report(y_true=y_test_rnd, y_pred=ypred_rnd))"
   ]
  },
  {
   "cell_type": "code",
   "execution_count": 94,
   "metadata": {},
   "outputs": [],
   "source": [
    "# SNS\n",
    "# custom params\n",
    "import seaborn as sns\n",
    "cp = {'axes.spines.right':False,\n",
    "      'axes.spines.top':False,\n",
    "      'figure.figsize':(12,8)}\n",
    "sns.set_theme(context='talk',\n",
    "              palette='pastel',\n",
    "              style='white',\n",
    "              rc=cp\n",
    "          )"
   ]
  },
  {
   "cell_type": "code",
   "execution_count": 95,
   "metadata": {},
   "outputs": [
    {
     "data": {
      "image/png": "[encoded data removed]",
      "text/plain": [
       "<Figure size 864x576 with 1 Axes>"
      ]
     },
     "metadata": {},
     "output_type": "display_data"
    },
    {
     "data": {
      "text/plain": [
       "<Figure size 1280x960 with 0 Axes>"
      ]
     },
     "metadata": {},
     "output_type": "display_data"
    }
   ],
   "source": [
    "import matplotlib.pyplot as plt\n",
    "from sklearn.metrics import RocCurveDisplay\n",
    "from matplotlib.pyplot import figure\n",
    "\n",
    "fig, ax = plt.subplots()\n",
    "figure(figsize=(16, 12), dpi=80)\n",
    "\n",
    "model_displays = RocCurveDisplay.from_estimator(\n",
    "    model, X_test_rnd, y_test_rnd, ax=ax\n",
    ")\n",
    "_ = ax.set_title(\"ROC curve Random\")"
   ]
  },
  {
   "cell_type": "code",
   "execution_count": 96,
   "metadata": {},
   "outputs": [
    {
     "data": {
      "image/png": "[encoded data removed]",
      "text/plain": [
       "<Figure size 864x576 with 1 Axes>"
      ]
     },
     "metadata": {},
     "output_type": "display_data"
    },
    {
     "data": {
      "text/plain": [
       "<Figure size 1280x960 with 0 Axes>"
      ]
     },
     "metadata": {},
     "output_type": "display_data"
    }
   ],
   "source": [
    "fig, ax = plt.subplots()\n",
    "figure(figsize=(16, 12), dpi=80)\n",
    "\n",
    "model_displays = RocCurveDisplay.from_estimator(\n",
    "    model, X_test_ts, y_test_ts, ax=ax\n",
    ")\n",
    "_ = ax.set_title(\"ROC curve Time based\")"
   ]
  }
 ],
 "metadata": {
  "colab": {
   "collapsed_sections": [],
   "name": "Anna Copy of hackathon.ipynb",
   "provenance": []
  },
  "kernelspec": {
   "display_name": "Python 3",
   "language": "python",
   "name": "python3"
  },
  "language_info": {
   "codemirror_mode": {
    "name": "ipython",
    "version": 3
   },
   "file_extension": ".py",
   "mimetype": "text/x-python",
   "name": "python",
   "nbconvert_exporter": "python",
   "pygments_lexer": "ipython3",
   "version": "3.9.13"
  }
 },
 "nbformat": 4,
 "nbformat_minor": 1
}
